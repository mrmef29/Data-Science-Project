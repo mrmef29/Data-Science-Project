{
 "cells": [
  {
   "cell_type": "markdown",
   "id": "7ed0da51-a1d3-4bc6-93b2-5fdf2edb194c",
   "metadata": {},
   "source": [
    "# Data Science Tools and Ecosystem"
   ]
  },
  {
   "cell_type": "markdown",
   "id": "844ed211-6e8b-4087-ba35-ef7be132ee38",
   "metadata": {},
   "source": [
    "In this notebook, Data Science Tools and Ecosystem are summarized.\n"
   ]
  },
  {
   "cell_type": "markdown",
   "id": "6bcc1017-e9ad-4207-a197-3262551220b1",
   "metadata": {},
   "source": [
    "**Objectives**\n",
    "* List popular languages for Data Science\n",
    "* List the libraries commonly used by Data Scientists\n",
    "* List some of the most common open source Data Science tools\n",
    "* Perform simple arithmetic operations in Python"
   ]
  },
  {
   "cell_type": "markdown",
   "id": "6c1b3df1-93fb-427e-9ab1-88488851d071",
   "metadata": {},
   "source": [
    "Some of the popular languages that Data Scientists use are:\n",
    "1. python\n",
    "1. R\n",
    "1. SQL\n",
    "1. SAS\n",
    "1. Java\n",
    "1. Julia"
   ]
  },
  {
   "cell_type": "markdown",
   "id": "39685efe-5953-43e2-a681-c753fea0f80a",
   "metadata": {},
   "source": [
    "Some of the commonly used libraries used by Data Scientists include:\n",
    "\n",
    "1. TensorFlow\n",
    "1. NumPy\n",
    "1. SciPy \n",
    "1. Pandas\n",
    "1. Matplotlib \n",
    "1. Keras\n",
    "1. SciKit-Learn\n",
    "1. PyTorch\n",
    "1. Scrapy\n"
   ]
  },
  {
   "cell_type": "markdown",
   "id": "bbbab78b-0f7f-419e-b1a2-56124122323e",
   "metadata": {
    "tags": []
   },
   "source": [
    "| Data Science Tools | \n",
    "|:------------------ |\n",
    "|  Jupyter Notebook  |\n",
    "|  Spyder            |\n",
    "|  R Studio          | "
   ]
  },
  {
   "cell_type": "markdown",
   "id": "e3e6f33d-fa85-46e0-b32b-25dee5fa7b41",
   "metadata": {},
   "source": [
    "### Below are a few examples of evaluating arithmetic expressions in Python.\n"
   ]
  },
  {
   "cell_type": "code",
   "execution_count": 2,
   "id": "daa2525c-7908-474e-9994-1f558b8c4a0a",
   "metadata": {
    "tags": []
   },
   "outputs": [
    {
     "data": {
      "text/plain": [
       "17"
      ]
     },
     "execution_count": 2,
     "metadata": {},
     "output_type": "execute_result"
    }
   ],
   "source": [
    "# This a simple arithmetic expression to mutiply then add integers\n",
    "(3*4) + 5"
   ]
  },
  {
   "cell_type": "code",
   "execution_count": 3,
   "id": "4c34917f-d895-48da-b334-999a330f4941",
   "metadata": {
    "tags": []
   },
   "outputs": [
    {
     "data": {
      "text/plain": [
       "3.3333333333333335"
      ]
     },
     "execution_count": 3,
     "metadata": {},
     "output_type": "execute_result"
    }
   ],
   "source": [
    "# This will convert 200 minutes to hours by diving by 60\n",
    "200/60"
   ]
  },
  {
   "cell_type": "markdown",
   "id": "59fce1b2-ba6d-4c0d-b2ef-94c1d6c7f0f4",
   "metadata": {},
   "source": [
    "## Author\n",
    "Edward Abdul Sheriff"
   ]
  },
  {
   "cell_type": "code",
   "execution_count": null,
   "id": "843815f6-07d8-4f23-8235-6bba044cf0ab",
   "metadata": {},
   "outputs": [],
   "source": []
  }
 ],
 "metadata": {
  "kernelspec": {
   "display_name": "Python 3 (ipykernel)",
   "language": "python",
   "name": "python3"
  },
  "language_info": {
   "codemirror_mode": {
    "name": "ipython",
    "version": 3
   },
   "file_extension": ".py",
   "mimetype": "text/x-python",
   "name": "python",
   "nbconvert_exporter": "python",
   "pygments_lexer": "ipython3",
   "version": "3.11.5"
  }
 },
 "nbformat": 4,
 "nbformat_minor": 5
}
